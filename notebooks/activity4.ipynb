{
 "cells": [
  {
   "cell_type": "code",
   "execution_count": 1,
   "metadata": {
    "collapsed": true
   },
   "outputs": [
    {
     "name": "stdout",
     "output_type": "stream",
     "text": [
      "<class 'pandas.core.frame.DataFrame'>\n",
      "RangeIndex: 1728 entries, 0 to 1727\n",
      "Data columns (total 7 columns):\n",
      " #   Column    Non-Null Count  Dtype  \n",
      "---  ------    --------------  -----  \n",
      " 0   buying    1727 non-null   object \n",
      " 1   maint     1727 non-null   object \n",
      " 2   doors     1728 non-null   int64  \n",
      " 3   persons   1151 non-null   float64\n",
      " 4   lug_boot  1728 non-null   object \n",
      " 5   safety    1727 non-null   object \n",
      " 6   class     1727 non-null   object \n",
      "dtypes: float64(1), int64(1), object(5)\n",
      "memory usage: 94.6+ KB\n",
      "buying: 5\n",
      "maint: 5\n",
      "doors: 4\n",
      "persons: 3\n",
      "lug_boot: 3\n",
      "safety: 4\n",
      "class: 5\n",
      "<class 'pandas.core.frame.DataFrame'>\n",
      "RangeIndex: 1728 entries, 0 to 1727\n",
      "Data columns (total 7 columns):\n",
      " #   Column    Non-Null Count  Dtype   \n",
      "---  ------    --------------  -----   \n",
      " 0   buying    1728 non-null   category\n",
      " 1   maint     1728 non-null   category\n",
      " 2   doors     1728 non-null   int32   \n",
      " 3   persons   1728 non-null   int32   \n",
      " 4   lug_boot  1728 non-null   category\n",
      " 5   safety    1728 non-null   category\n",
      " 6   class     1728 non-null   category\n",
      "dtypes: category(5), int32(2)\n",
      "memory usage: 23.0 KB\n"
     ]
    }
   ],
   "source": [
    "# Imports\n",
    "from helpers import data_cleaner as dclean # Helper class that will help with cleaning the data\n",
    "from helpers import data_fetcher as dfetch # Helper class that will help with fetching the data\n",
    "\n",
    "# Getting the data from a CSV\n",
    "all_data = dfetch.car_data\n",
    "\n",
    "# Printing the first 10 records per step 4\n",
    "all_data.head(10)\n",
    "# Printing the data types for each type per step 5\n",
    "all_data.info()\n",
    "\n",
    "# Getting the data formatted and the blanks filled per step 6/8\n",
    "# I decided to this in one step because it's a bit more efficient since I'm already looping through\n",
    "# the columns\n",
    "dclean.fill_blanks_and_format(df=all_data)\n",
    "\n",
    "# Getting the unique values per step 7\n",
    "dfetch.get_num_all_unique_vals(df=all_data)\n",
    "\n",
    "# Getting the data types per step 9\n",
    "all_data.info()"
   ]
  }
 ],
 "metadata": {
  "kernelspec": {
   "display_name": "Python 3",
   "language": "python",
   "name": "python3"
  },
  "language_info": {
   "codemirror_mode": {
    "name": "ipython",
    "version": 2
   },
   "file_extension": ".py",
   "mimetype": "text/x-python",
   "name": "python",
   "nbconvert_exporter": "python",
   "pygments_lexer": "ipython2",
   "version": "2.7.6"
  }
 },
 "nbformat": 4,
 "nbformat_minor": 0
}
