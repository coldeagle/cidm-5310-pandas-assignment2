{
 "cells": [
  {
   "cell_type": "code",
   "execution_count": 23,
   "metadata": {
    "collapsed": true
   },
   "outputs": [
    {
     "data": {
      "text/plain": "   index  Customer_Number               Company      City State\n0      5            35549  Certain Construction  Honolulu    HI",
      "text/html": "<div>\n<style scoped>\n    .dataframe tbody tr th:only-of-type {\n        vertical-align: middle;\n    }\n\n    .dataframe tbody tr th {\n        vertical-align: top;\n    }\n\n    .dataframe thead th {\n        text-align: right;\n    }\n</style>\n<table border=\"1\" class=\"dataframe\">\n  <thead>\n    <tr style=\"text-align: right;\">\n      <th></th>\n      <th>index</th>\n      <th>Customer_Number</th>\n      <th>Company</th>\n      <th>City</th>\n      <th>State</th>\n    </tr>\n  </thead>\n  <tbody>\n    <tr>\n      <th>0</th>\n      <td>5</td>\n      <td>35549</td>\n      <td>Certain Construction</td>\n      <td>Honolulu</td>\n      <td>HI</td>\n    </tr>\n  </tbody>\n</table>\n</div>"
     },
     "execution_count": 23,
     "metadata": {},
     "output_type": "execute_result"
    }
   ],
   "source": [
    "# Imports\n",
    "import helpers.data_fetcher as df # Using a helper for querying, just seems cleaner, especially if we want to set up tests later\n",
    "\n",
    "# Querying all tables for step 2 of the activity\n",
    "all_tables = df.get_tables()\n",
    "all_tables\n",
    "\n",
    "# Querying all orders into a DF for step 3\n",
    "all_orders = df.get_orders()\n",
    "all_orders\n",
    "\n",
    "# Doing some dataframe magic to get the customer with the most sales for step 4\n",
    "max_sales_cust_num = all_orders.groupby('Customer_Number').sum()['amount'].sort_values(ascending=False).index[0]\n",
    "\n",
    "# Querying the customer info for step 5\n",
    "max_sales_cust = df.get_customer(str(max_sales_cust_num))\n",
    "max_sales_cust\n"
   ]
  }
 ],
 "metadata": {
  "kernelspec": {
   "display_name": "Python 3",
   "language": "python",
   "name": "python3"
  },
  "language_info": {
   "codemirror_mode": {
    "name": "ipython",
    "version": 2
   },
   "file_extension": ".py",
   "mimetype": "text/x-python",
   "name": "python",
   "nbconvert_exporter": "python",
   "pygments_lexer": "ipython2",
   "version": "2.7.6"
  }
 },
 "nbformat": 4,
 "nbformat_minor": 0
}
